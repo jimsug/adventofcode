{
 "cells": [
  {
   "cell_type": "code",
   "execution_count": 42,
   "metadata": {},
   "outputs": [],
   "source": [
    "from aocd.models import Puzzle\n",
    "p = Puzzle(year=2024, day=2).input_data.split(\"\\n\")\n",
    "# p = Puzzle(year=2024, day=2).examples[0].input_data.split(\"\\n\")\n"
   ]
  },
  {
   "cell_type": "code",
   "execution_count": 43,
   "metadata": {},
   "outputs": [],
   "source": [
    "import re\n",
    "import itertools"
   ]
  },
  {
   "cell_type": "code",
   "execution_count": 44,
   "metadata": {},
   "outputs": [],
   "source": [
    "safe = 0\n",
    "for line in p:\n",
    "    l = [int(i) for i in line.split(\" \")]\n",
    "    if all(\n",
    "        [0 < abs(l[i] - l[i+1]) < 4 and l[i] > l[i+1] for i in range(len(l) - 1)]\n",
    "        ) or all(\n",
    "            [0 < abs(l[i] - l[i+1]) < 4 and l[i] < l[i+1] for i in range(len(l) - 1)]\n",
    "            ):\n",
    "        safe += 1\n"
   ]
  },
  {
   "cell_type": "code",
   "execution_count": 45,
   "metadata": {},
   "outputs": [
    {
     "data": {
      "text/plain": [
       "411"
      ]
     },
     "execution_count": 45,
     "metadata": {},
     "output_type": "execute_result"
    }
   ],
   "source": [
    "# part 1\n",
    "safe"
   ]
  },
  {
   "cell_type": "code",
   "execution_count": 46,
   "metadata": {},
   "outputs": [],
   "source": [
    "# part two\n",
    "safe_dampened = 0\n",
    "for line in p:\n",
    "    l = [int(i) for i in line.split(\" \")]\n",
    "    if all(\n",
    "        [0 < abs(l[i] - l[i+1]) < 4 and l[i] > l[i+1] for i in range(len(l) - 1)]\n",
    "        ) or all(\n",
    "            [0 < abs(l[i] - l[i+1]) < 4 and l[i] < l[i+1] for i in range(len(l) - 1)]\n",
    "            ):\n",
    "        safe_dampened += 1\n",
    "    else:\n",
    "        for j in range (len(l)):\n",
    "            nl = [i for i in l]\n",
    "            del nl[j]\n",
    "            if all(\n",
    "                [0 < abs(nl[i] - nl[i+1]) < 4 and nl[i] > nl[i+1] for i in range(len(nl) - 1)]\n",
    "                ) or all(\n",
    "                    [0 < abs(nl[i] - nl[i+1]) < 4 and nl[i] < nl[i+1] for i in range(len(nl) - 1)]\n",
    "                    ):\n",
    "                safe_dampened += 1\n",
    "                break"
   ]
  },
  {
   "cell_type": "code",
   "execution_count": 47,
   "metadata": {},
   "outputs": [
    {
     "name": "stdout",
     "output_type": "stream",
     "text": [
      "465\n"
     ]
    }
   ],
   "source": [
    "print(safe_dampened)"
   ]
  },
  {
   "cell_type": "code",
   "execution_count": null,
   "metadata": {},
   "outputs": [],
   "source": []
  }
 ],
 "metadata": {
  "kernelspec": {
   "display_name": "Python 3",
   "language": "python",
   "name": "python3"
  },
  "language_info": {
   "codemirror_mode": {
    "name": "ipython",
    "version": 3
   },
   "file_extension": ".py",
   "mimetype": "text/x-python",
   "name": "python",
   "nbconvert_exporter": "python",
   "pygments_lexer": "ipython3",
   "version": "3.10.12"
  }
 },
 "nbformat": 4,
 "nbformat_minor": 2
}
